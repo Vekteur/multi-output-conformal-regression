{
 "cells": [
  {
   "cell_type": "markdown",
   "metadata": {},
   "source": [
    "# Toy experiments\n",
    "\n",
    "This notebook displays regions obtained by different multi-output conformal methods"
   ]
  },
  {
   "cell_type": "code",
   "execution_count": null,
   "metadata": {},
   "outputs": [],
   "source": [
    "%load_ext autoreload\n",
    "%autoreload 2\n",
    "\n",
    "from pathlib import Path\n",
    "\n",
    "import matplotlib.pyplot as plt\n",
    "import torch\n",
    "from tqdm import tqdm\n",
    "\n",
    "from moc.models.oracle.oracle_model import OracleModel\n",
    "from moc.models.mqf2.lightning_module import MQF2LightningModule\n",
    "from moc.models.mixture.mixture_model import MixtureLightningModule\n",
    "from moc.models.trainers.lightning_trainer import get_lightning_trainer\n",
    "from moc.models.trainers.default_trainer import DefaultTrainer\n",
    "from moc.configs.config import get_config\n",
    "from moc.utils.general import seed_everything, savefig\n",
    "from moc.utils.run_config import RunConfig\n",
    "from moc.analysis.dataframes import load_datamodule\n",
    "from moc.analysis.plot_2d_vs_1d import plot_2D_region_vs_1D_per_method, plot_2D_region_vs_1D_per_model, plot_2D_region_vs_1D_for_HDR_CP_per_n_samples\n",
    "from moc.analysis.plot_2d import plot_2D_region_per_method, plot_2D_regions_by_x_and_tau\n",
    "from moc.datamodules.toy_datamodule import UnimodalHeteroscedastic, BimodalHeteroscedastic\n",
    "\n",
    "name = 'toy'\n",
    "path = Path('results') / name\n",
    "path.mkdir(exist_ok=True, parents=True)\n",
    "seed_everything(0)"
   ]
  },
  {
   "cell_type": "code",
   "execution_count": 2,
   "metadata": {},
   "outputs": [],
   "source": [
    "config = get_config()\n",
    "config.device = 'cuda' # 'cuda' or 'cpu'"
   ]
  },
  {
   "cell_type": "markdown",
   "metadata": {},
   "source": [
    "## Unimodal dataset"
   ]
  },
  {
   "cell_type": "markdown",
   "metadata": {},
   "source": [
    "### Model training"
   ]
  },
  {
   "cell_type": "code",
   "execution_count": null,
   "metadata": {},
   "outputs": [],
   "source": [
    "dataset = 'unimodal_heteroscedastic'\n",
    "rc = RunConfig(config, 'toy_2dim', dataset, 0, hparams={})\n",
    "datamodule = load_datamodule(rc)\n",
    "oracle_model = OracleModel()\n",
    "trainer = DefaultTrainer(rc)\n",
    "trainer.fit(oracle_model, datamodule)\n",
    "p, q = datamodule.input_dim, datamodule.output_dim\n",
    "mqf2_model = MQF2LightningModule(p, q)\n",
    "trainer = get_lightning_trainer(rc)\n",
    "trainer.fit(mqf2_model, datamodule)\n",
    "mqf2_model.to(config.device);"
   ]
  },
  {
   "cell_type": "markdown",
   "metadata": {},
   "source": [
    "### 3D plots of 2D output regions vs 1D input"
   ]
  },
  {
   "cell_type": "code",
   "execution_count": null,
   "metadata": {},
   "outputs": [],
   "source": [
    "# List of methods with default hyperparameters\n",
    "methods = ['M-CP', 'DR-CP', 'HDR-CP', 'PCP', 'HD-PCP', 'C-PCP', 'L-CP']\n",
    "hparams_list = [{'posthoc_method': method} for method in methods]\n",
    "\n",
    "torch.manual_seed(0)\n",
    "plot_2D_region_vs_1D_per_method(hparams_list, datamodule, config, oracle_model, mqf2_model, path=path / 'contours' / f'{dataset}_per_method.pdf', grid_side=300, nrows=2)"
   ]
  },
  {
   "cell_type": "markdown",
   "metadata": {},
   "source": [
    "### 2D plots of 2D output regions"
   ]
  },
  {
   "cell_type": "code",
   "execution_count": null,
   "metadata": {},
   "outputs": [],
   "source": [
    "fig, ax = plt.subplots(1, 1, figsize=(3.7, 3.7))\n",
    "plot_2D_region_per_method(ax, 1, 0.8, datamodule, oracle_model, mqf2_model, grid_side=800, custom_xlim=(-2.8,2.8), custom_ylim=(-2.8,2.8))\n",
    "ax.legend(loc='upper center', bbox_to_anchor=(0.46, 1.22), ncol=3, prop={'family': plt.rcParams['font.family']})\n",
    "savefig(path / 'contours' / f'{dataset}_2d_x_1.pdf')"
   ]
  },
  {
   "cell_type": "code",
   "execution_count": null,
   "metadata": {},
   "outputs": [],
   "source": [
    "plot_2D_regions_by_x_and_tau(datamodule, oracle_model, mqf2_model, path=path / 'contours' / f'{dataset}_conf_slices.pdf', grid_side=100)"
   ]
  },
  {
   "cell_type": "markdown",
   "metadata": {},
   "source": [
    "## Bimodal dataset"
   ]
  },
  {
   "cell_type": "markdown",
   "metadata": {},
   "source": [
    "### Model training"
   ]
  },
  {
   "cell_type": "code",
   "execution_count": null,
   "metadata": {},
   "outputs": [],
   "source": [
    "dataset = 'bimodal_heteroscedastic'\n",
    "rc = RunConfig(config, 'toy_2dim', dataset, 0, hparams={})\n",
    "datamodule = load_datamodule(rc)\n",
    "oracle_model = OracleModel()\n",
    "trainer = DefaultTrainer(rc)\n",
    "trainer.fit(oracle_model, datamodule)\n",
    "p, q = datamodule.input_dim, datamodule.output_dim\n",
    "mqf2_model = MQF2LightningModule(p, q)\n",
    "trainer = get_lightning_trainer(rc)\n",
    "trainer.fit(mqf2_model, datamodule)\n",
    "mqf2_model.to(config.device);"
   ]
  },
  {
   "cell_type": "markdown",
   "metadata": {},
   "source": [
    "### 3D plots of 2D output regions vs 1D input"
   ]
  },
  {
   "cell_type": "code",
   "execution_count": null,
   "metadata": {},
   "outputs": [],
   "source": [
    "torch.manual_seed(0)\n",
    "plot_2D_region_vs_1D_per_method(hparams_list, datamodule, config, oracle_model, mqf2_model, path=path / 'contours' / f'{dataset}_per_method.pdf', grid_side=300, nrows=2)"
   ]
  },
  {
   "cell_type": "markdown",
   "metadata": {},
   "source": [
    "### 2D plots of 2D output regions"
   ]
  },
  {
   "cell_type": "code",
   "execution_count": null,
   "metadata": {},
   "outputs": [],
   "source": [
    "plot_2D_regions_by_x_and_tau(datamodule, oracle_model, mqf2_model, path=path / 'contours' / f'{dataset}_conf_slices.pdf', grid_side=100)"
   ]
  },
  {
   "cell_type": "markdown",
   "metadata": {},
   "source": [
    "## More complex toy dataset"
   ]
  },
  {
   "cell_type": "markdown",
   "metadata": {},
   "source": [
    "### Model training"
   ]
  },
  {
   "cell_type": "code",
   "execution_count": null,
   "metadata": {},
   "outputs": [],
   "source": [
    "dataset = 'toy_del_barrio'\n",
    "rc = RunConfig(config, 'toy_2dim', dataset, 0, hparams={})\n",
    "datamodule = load_datamodule(rc)\n",
    "p, q = datamodule.input_dim, datamodule.output_dim\n",
    "mqf2_model = MQF2LightningModule(p, q, icnn_hidden_size=100, icnn_num_layers=3)\n",
    "#mqf2_model = MixtureLightningModule(mixture_size=1, hidden_size=200, num_layers=4)\n",
    "trainer = get_lightning_trainer(rc)\n",
    "trainer.fit(mqf2_model, datamodule)\n",
    "mqf2_model.to(config.device);"
   ]
  },
  {
   "cell_type": "markdown",
   "metadata": {},
   "source": [
    "### 3D plots of 2D output regions vs 1D input"
   ]
  },
  {
   "cell_type": "code",
   "execution_count": null,
   "metadata": {},
   "outputs": [],
   "source": [
    "torch.manual_seed(0)\n",
    "plot_2D_region_vs_1D_per_method(hparams_list, datamodule, config, None, mqf2_model, path=path / 'contours' / f'{dataset}_per_method.pdf', grid_side=300, nrows=2)"
   ]
  },
  {
   "cell_type": "markdown",
   "metadata": {},
   "source": [
    "## Models comparison on a bimodal dataset"
   ]
  },
  {
   "cell_type": "markdown",
   "metadata": {},
   "source": [
    "### Models training"
   ]
  },
  {
   "cell_type": "code",
   "execution_count": null,
   "metadata": {},
   "outputs": [],
   "source": [
    "from moc.models.train import models, trainers\n",
    "\n",
    "dataset = 'bimodal_heteroscedastic'\n",
    "rc = RunConfig(config, 'toy_2dim', dataset, 0, hparams={})\n",
    "datamodule = load_datamodule(rc)\n",
    "p, q = datamodule.input_dim, datamodule.output_dim\n",
    "\n",
    "models_order = ['Mixture', 'DRF-KDE', 'MQF2']\n",
    "trained_models = {}\n",
    "for model_name in models_order:\n",
    "    model = models[model_name](p, q)\n",
    "    trainer = trainers[model_name](rc=rc)\n",
    "    trainer.fit(model=model, datamodule=datamodule)\n",
    "    print(f'Finished training {rc.summary_str()}')\n",
    "    model.to(rc.config.device)\n",
    "    trained_models[model_name] = model"
   ]
  },
  {
   "cell_type": "markdown",
   "metadata": {},
   "source": [
    "### 3D plots of 2D output regions vs 1D input"
   ]
  },
  {
   "cell_type": "code",
   "execution_count": null,
   "metadata": {},
   "outputs": [],
   "source": [
    "oracle_model = OracleModel()\n",
    "trainer = DefaultTrainer(rc)\n",
    "trainer.fit(oracle_model, datamodule)\n",
    "\n",
    "torch.manual_seed(0)\n",
    "plot_2D_region_vs_1D_per_model(datamodule, config, oracle_model, trained_models, path=path / 'contours' / f'{dataset}_per_model.pdf', grid_side=300)"
   ]
  },
  {
   "cell_type": "markdown",
   "metadata": {},
   "source": [
    "## Varying number of samples"
   ]
  },
  {
   "cell_type": "markdown",
   "metadata": {},
   "source": [
    "### 3D plots of 2D output regions vs 1D input for HDR-CP with varying number of samples"
   ]
  },
  {
   "cell_type": "code",
   "execution_count": null,
   "metadata": {},
   "outputs": [],
   "source": [
    "torch.manual_seed(0)\n",
    "plot_2D_region_vs_1D_for_HDR_CP_per_n_samples(datamodule, config, oracle_model, path=path / 'contours' / f'{dataset}_HDR_CP_per_n_samples.pdf', grid_side=300)"
   ]
  }
 ],
 "metadata": {
  "kernelspec": {
   "display_name": "Python 3 (ipykernel)",
   "language": "python",
   "name": "python3"
  },
  "language_info": {
   "codemirror_mode": {
    "name": "ipython",
    "version": 3
   },
   "file_extension": ".py",
   "mimetype": "text/x-python",
   "name": "python",
   "nbconvert_exporter": "python",
   "pygments_lexer": "ipython3",
   "version": "3.10.16"
  }
 },
 "nbformat": 4,
 "nbformat_minor": 2
}
