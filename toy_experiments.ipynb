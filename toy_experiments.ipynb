{
 "cells": [
  {
   "cell_type": "markdown",
   "metadata": {},
   "source": [
    "# Toy experiments\n",
    "\n",
    "This notebook displays regions obtained by different multi-output conformal methods"
   ]
  },
  {
   "cell_type": "code",
   "execution_count": null,
   "metadata": {},
   "outputs": [],
   "source": [
    "%load_ext autoreload\n",
    "%autoreload 2\n",
    "\n",
    "from pathlib import Path\n",
    "\n",
    "import matplotlib.pyplot as plt\n",
    "import torch\n",
    "from tqdm import tqdm\n",
    "\n",
    "from moc.models.train import train\n",
    "from moc.configs.config import get_config\n",
    "from moc.utils.general import seed_everything, savefig\n",
    "from moc.utils.run_config import RunConfig\n",
    "from moc.analysis.dataframes import load_datamodule\n",
    "from moc.analysis.plot_2d_vs_1d import plot_2D_region_vs_1D_per_method, plot_2D_region_vs_1D_per_model, plot_2D_region_vs_1D_for_C_HDR_per_n_samples\n",
    "from moc.analysis.plot_2d import plot_2D_region_per_method, plot_2D_regions_by_x_and_tau\n",
    "from moc.datamodules.toy_datamodule import UnimodalHeteroscedastic, BimodalHeteroscedastic\n",
    "from moc.analysis.utils import get_oracle_model\n",
    "\n",
    "name = 'toy'\n",
    "path = Path('results') / name\n",
    "path.mkdir(exist_ok=True, parents=True)\n",
    "seed_everything(0)"
   ]
  },
  {
   "cell_type": "code",
   "execution_count": 2,
   "metadata": {},
   "outputs": [],
   "source": [
    "config = get_config()\n",
    "config.device = 'cuda' # 'cuda' or 'cpu'"
   ]
  },
  {
   "cell_type": "markdown",
   "metadata": {},
   "source": [
    "## Unimodal dataset"
   ]
  },
  {
   "cell_type": "markdown",
   "metadata": {},
   "source": [
    "### Model training"
   ]
  },
  {
   "cell_type": "code",
   "execution_count": null,
   "metadata": {},
   "outputs": [],
   "source": [
    "dataset = 'unimodal_heteroscedastic'\n",
    "model_name = 'MQF2'\n",
    "rc = RunConfig(config, 'toy_2dim', dataset, 0, hparams={'model': model_name})\n",
    "datamodule = load_datamodule(rc)\n",
    "oracle_model = get_oracle_model(rc, datamodule)\n",
    "mqf2_model = train(rc, datamodule)"
   ]
  },
  {
   "cell_type": "markdown",
   "metadata": {},
   "source": [
    "### 3D plots of 2D output regions vs 1D input"
   ]
  },
  {
   "cell_type": "code",
   "execution_count": null,
   "metadata": {},
   "outputs": [],
   "source": [
    "# List of methods with default hyperparameters\n",
    "methods = ['M-CP', 'CopulaCPTS', 'DR-CP', 'C-HDR', 'PCP', 'HD-PCP', 'STDQR', 'C-PCP', 'L-CP']\n",
    "hparams_list = [{'posthoc_method': method} for method in methods]\n",
    "\n",
    "torch.manual_seed(0)\n",
    "plot_path = path / 'contours' / f'{model_name}_{dataset}.pdf'\n",
    "plot_2D_region_vs_1D_per_method(hparams_list, datamodule, config, oracle_model, mqf2_model, path=plot_path, grid_side=300)"
   ]
  },
  {
   "cell_type": "markdown",
   "metadata": {},
   "source": [
    "### 2D plots of 2D output regions"
   ]
  },
  {
   "cell_type": "code",
   "execution_count": null,
   "metadata": {},
   "outputs": [],
   "source": [
    "plot_2D_regions_by_x_and_tau(datamodule, oracle_model, mqf2_model, path=path / 'contours' / f'{dataset}_conf_slices.pdf', grid_side=100)"
   ]
  },
  {
   "cell_type": "markdown",
   "metadata": {},
   "source": [
    "## Bimodal dataset"
   ]
  },
  {
   "cell_type": "markdown",
   "metadata": {},
   "source": [
    "### Model training"
   ]
  },
  {
   "cell_type": "code",
   "execution_count": null,
   "metadata": {},
   "outputs": [],
   "source": [
    "dataset = 'bimodal_heteroscedastic'\n",
    "model_name = 'MQF2'\n",
    "rc = RunConfig(config, 'toy_2dim', dataset, 0, hparams={'model': model_name})\n",
    "datamodule = load_datamodule(rc)\n",
    "oracle_model = get_oracle_model(rc, datamodule)\n",
    "mqf2_model = train(rc, datamodule)"
   ]
  },
  {
   "cell_type": "markdown",
   "metadata": {},
   "source": [
    "### 3D plots of 2D output regions vs 1D input"
   ]
  },
  {
   "cell_type": "code",
   "execution_count": null,
   "metadata": {},
   "outputs": [],
   "source": [
    "methods = ['M-CP', 'CopulaCPTS', 'DR-CP', 'C-HDR', 'PCP', 'HD-PCP', 'STDQR', 'C-PCP', 'L-CP']\n",
    "hparams_list = [{'posthoc_method': method} for method in methods]\n",
    "\n",
    "torch.manual_seed(0)\n",
    "plot_path = path / 'contours' / f'{model_name}_{dataset}.pdf'\n",
    "plot_2D_region_vs_1D_per_method(hparams_list, datamodule, config, oracle_model, mqf2_model, path=plot_path, grid_side=300)"
   ]
  },
  {
   "cell_type": "markdown",
   "metadata": {},
   "source": [
    "### 2D plots of 2D output regions"
   ]
  },
  {
   "cell_type": "code",
   "execution_count": null,
   "metadata": {},
   "outputs": [],
   "source": [
    "plot_2D_regions_by_x_and_tau(datamodule, oracle_model, mqf2_model, path=path / 'contours' / f'{dataset}_conf_slices.pdf', grid_side=100)"
   ]
  },
  {
   "cell_type": "markdown",
   "metadata": {},
   "source": [
    "## Models comparison on a bimodal dataset"
   ]
  },
  {
   "cell_type": "markdown",
   "metadata": {},
   "source": [
    "### Models training"
   ]
  },
  {
   "cell_type": "code",
   "execution_count": null,
   "metadata": {},
   "outputs": [],
   "source": [
    "from moc.models.train import models, trainers\n",
    "\n",
    "dataset = 'bimodal_heteroscedastic'\n",
    "datamodule = load_datamodule(rc)\n",
    "\n",
    "models_order = ['Mixture', 'DRF-KDE', 'MQF2']\n",
    "trained_models = {}\n",
    "for model_name in models_order:\n",
    "    rc = RunConfig(config, 'toy_2dim', dataset, 0, hparams={'model': model_name})\n",
    "    trained_models[model_name] = train(rc, datamodule)\n",
    "    print(f'Finished training {rc.summary_str()}')"
   ]
  },
  {
   "cell_type": "markdown",
   "metadata": {},
   "source": [
    "### 3D plots of 2D output regions vs 1D input"
   ]
  },
  {
   "cell_type": "code",
   "execution_count": null,
   "metadata": {},
   "outputs": [],
   "source": [
    "oracle_model = get_oracle_model(rc, datamodule)\n",
    "\n",
    "torch.manual_seed(0)\n",
    "plot_2D_region_vs_1D_per_model(datamodule, config, oracle_model, trained_models, path=path / 'contours' / f'{dataset}_per_model.pdf', grid_side=300)"
   ]
  },
  {
   "cell_type": "markdown",
   "metadata": {},
   "source": [
    "## Moon dataset"
   ]
  },
  {
   "cell_type": "code",
   "execution_count": null,
   "metadata": {},
   "outputs": [],
   "source": [
    "dataset = 'one_moon_heteroscedastic'\n",
    "model_name = 'MQF2'\n",
    "rc = RunConfig(config, 'toy_2dim', dataset, 0, hparams={'model': model_name})\n",
    "datamodule = load_datamodule(rc)\n",
    "oracle_model = get_oracle_model(rc, datamodule)\n",
    "mqf2_model = train(rc, datamodule)"
   ]
  },
  {
   "cell_type": "markdown",
   "metadata": {},
   "source": [
    "### 3D plots of 2D output regions vs 1D input"
   ]
  },
  {
   "cell_type": "code",
   "execution_count": null,
   "metadata": {},
   "outputs": [],
   "source": [
    "methods = ['M-CP', 'CopulaCPTS', 'DR-CP', 'C-HDR', 'PCP', 'HD-PCP', 'STDQR', 'C-PCP', 'L-CP']\n",
    "hparams_list = [{'posthoc_method': method} for method in methods]\n",
    "\n",
    "torch.manual_seed(0)\n",
    "plot_path = path / 'contours' / f'{model_name}_{dataset}.pdf'\n",
    "plot_2D_region_vs_1D_per_method(hparams_list, datamodule, config, oracle_model, mqf2_model, path=plot_path, grid_side=300)"
   ]
  },
  {
   "cell_type": "markdown",
   "metadata": {},
   "source": [
    "### 2D plots of 2D output regions"
   ]
  },
  {
   "cell_type": "code",
   "execution_count": null,
   "metadata": {},
   "outputs": [],
   "source": [
    "torch.manual_seed(0)\n",
    "fig, ax = plt.subplots(1, 1, figsize=(3, 3))\n",
    "plot_2D_region_per_method(ax, -1.2, 0.8, datamodule, None, mqf2_model, grid_side=800, custom_xlim=(-3, 3), custom_ylim=(-3.2, 3.4))\n",
    "ax.legend(loc='center left', bbox_to_anchor=(1, 0.5), ncol=1, prop={'family': plt.rcParams['font.family']}, frameon=False)\n",
    "savefig(path / 'contours' / f'{dataset}_2d_x_1.pdf')"
   ]
  },
  {
   "cell_type": "code",
   "execution_count": null,
   "metadata": {},
   "outputs": [],
   "source": [
    "plot_path = path / 'contours' / f'{model_name}_{dataset}_conf_slices.pdf'\n",
    "plot_2D_regions_by_x_and_tau(datamodule, oracle_model, mqf2_model, path=plot_path, grid_side=100)"
   ]
  },
  {
   "cell_type": "markdown",
   "metadata": {},
   "source": [
    "## Varying number of samples"
   ]
  },
  {
   "cell_type": "markdown",
   "metadata": {},
   "source": [
    "### 3D plots of 2D output regions vs 1D input for C-HDR with varying number of samples"
   ]
  },
  {
   "cell_type": "code",
   "execution_count": null,
   "metadata": {},
   "outputs": [],
   "source": [
    "torch.manual_seed(0)\n",
    "plot_2D_region_vs_1D_for_C_HDR_per_n_samples(datamodule, config, oracle_model, path=path / 'contours' / f'{dataset}_C_HDR_per_n_samples.pdf', grid_side=300)"
   ]
  }
 ],
 "metadata": {
  "kernelspec": {
   "display_name": "Python 3 (ipykernel)",
   "language": "python",
   "name": "python3"
  },
  "language_info": {
   "codemirror_mode": {
    "name": "ipython",
    "version": 3
   },
   "file_extension": ".py",
   "mimetype": "text/x-python",
   "name": "python",
   "nbconvert_exporter": "python",
   "pygments_lexer": "ipython3",
   "version": "3.10.14"
  }
 },
 "nbformat": 4,
 "nbformat_minor": 2
}
