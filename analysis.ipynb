{
 "cells": [
  {
   "cell_type": "markdown",
   "metadata": {},
   "source": [
    "# Results analysis\n",
    "\n",
    "This notebook computes various plots and tables comparing metrics for the different conformal methods."
   ]
  },
  {
   "cell_type": "code",
   "execution_count": 1,
   "metadata": {},
   "outputs": [],
   "source": [
    "%load_ext autoreload\n",
    "%autoreload 2\n",
    "\n",
    "from pathlib import Path\n",
    "\n",
    "import torch\n",
    "import pandas as pd\n",
    "import numpy as np\n",
    "import matplotlib as mpl\n",
    "import matplotlib.pyplot as plt\n",
    "import seaborn as sns\n",
    "\n",
    "from moc.analysis.dataframes import (\n",
    "\tload_config, load_df, get_metric_df, get_datasets_df, to_latex, \n",
    "    Highlighter, agg_mean_sem, format_cell_latex, format_cell_jupyter\n",
    ")\n",
    "from moc.analysis.plot import plot_coverage_per_model, plot_n_samples, plot_ndim\n",
    "from moc.analysis.plot_cd_diagram import draw_my_cd_diagram\n",
    "from moc.analysis.helpers import main_metrics, other_metrics, conformal_methods\n",
    "from moc.utils.general import filter_dict, set_notebook_options, savefig\n",
    "\n",
    "set_notebook_options()\n",
    "\n",
    "name = 'full'\n",
    "path = Path('results') / name\n",
    "path.mkdir(exist_ok=True, parents=True)"
   ]
  },
  {
   "cell_type": "code",
   "execution_count": null,
   "metadata": {},
   "outputs": [],
   "source": [
    "config = load_config(Path('logs') / name)\n",
    "df = load_df(config)\n",
    "df = get_metric_df(config, df)\n",
    "df_ds = get_datasets_df(config, reload=False)"
   ]
  },
  {
   "cell_type": "markdown",
   "metadata": {},
   "source": [
    "### CD diagrams"
   ]
  },
  {
   "cell_type": "code",
   "execution_count": 3,
   "metadata": {},
   "outputs": [],
   "source": [
    "too_small = df_ds.query('`Nb instances` < 1000').reset_index()['Dataset']\n",
    "df = df.query('dataset not in @too_small')"
   ]
  },
  {
   "cell_type": "code",
   "execution_count": null,
   "metadata": {
    "collapsed": true,
    "jupyter": {
     "outputs_hidden": true
    }
   },
   "outputs": [],
   "source": [
    "for model_name, model_df in df.groupby('model', dropna=False):\n",
    "    plot_df = model_df.query('posthoc_method in @conformal_methods and dataset_group != \"toy\"').reset_index()\n",
    "    for metric in main_metrics + ['score_time', 'test_coverage_time']:\n",
    "        print(f'Plotting {model_name} {metric}', flush=True)\n",
    "        draw_my_cd_diagram(plot_df, metric, config.alpha)\n",
    "        savefig(path / 'cd_diagrams' / model_name / f'{metric}.pdf')"
   ]
  },
  {
   "cell_type": "markdown",
   "metadata": {},
   "source": [
    "### Full horizontal results table"
   ]
  },
  {
   "cell_type": "code",
   "execution_count": null,
   "metadata": {},
   "outputs": [],
   "source": [
    "plot_df = df.query('model == \"MQF2\" and posthoc_method in [\"M-CP\", \"HDR-CP\", \"DR-CP\", \"L-CP\", \"PCP\", \"HD-PCP\", \"C-PCP\"] and dataset_group != \"toy\"')\n",
    "pivot_df = plot_df.pivot_table(index='dataset', columns=('metric', 'name'), values='value', aggfunc=agg_mean_sem, observed=True)\n",
    "styled_table = pivot_df.style.apply(Highlighter(config.alpha).highlight_min_per_metric, axis=None)\n",
    "to_latex(styled_table.format(format_cell_latex), path / 'tables' / 'mqf2_real_wide.tex')\n",
    "styled_table.format(format_cell_jupyter)"
   ]
  },
  {
   "cell_type": "markdown",
   "metadata": {},
   "source": [
    "### Full vertical results table"
   ]
  },
  {
   "cell_type": "code",
   "execution_count": null,
   "metadata": {},
   "outputs": [],
   "source": [
    "plot_df = df.query('model == \"MQF2\" and posthoc_method in @conformal_methods and metric in @main_metrics and dataset_group != \"toy\"')\n",
    "plot_df = plot_df.reset_index()\n",
    "plot_df['name'] = pd.Categorical(plot_df['name'], conformal_methods)\n",
    "pivot_df = plot_df.pivot_table(index=('dataset', 'name'), columns=('metric',), values='value', aggfunc=agg_mean_sem, observed=True)\n",
    "styled_table = pivot_df.style.apply(Highlighter(config.alpha).highlight_min_per_dataset, axis=None)\n",
    "to_latex(styled_table.format(format_cell_latex), path / 'tables' / 'mqf2_real.tex')\n",
    "styled_table.format(format_cell_jupyter)"
   ]
  },
  {
   "cell_type": "markdown",
   "metadata": {},
   "source": [
    "### Time table"
   ]
  },
  {
   "cell_type": "code",
   "execution_count": null,
   "metadata": {},
   "outputs": [],
   "source": [
    "plot_df = df.query('dataset_group != \"toy\" and metric == \"total_time\" and posthoc_method in @conformal_methods')\n",
    "plot_df = plot_df.reset_index()\n",
    "plot_df['name'] = pd.Categorical(plot_df['name'], conformal_methods)\n",
    "pivot_df = plot_df.pivot_table(index=('dataset'), columns=('metric', 'name'), values='value', aggfunc=agg_mean_sem, observed=True)\n",
    "styled_table = pivot_df.style.apply(Highlighter(config.alpha).highlight_min_per_metric, axis=None)\n",
    "to_latex(styled_table.format(format_cell_latex), path / 'tables' / 'mqf2_real_total_time.tex')\n",
    "display(styled_table.format(format_cell_jupyter))"
   ]
  },
  {
   "cell_type": "markdown",
   "metadata": {},
   "source": [
    "### Result for Glow"
   ]
  },
  {
   "cell_type": "code",
   "execution_count": null,
   "metadata": {},
   "outputs": [],
   "source": [
    "plot_df = df.query('model == \"Glow\" and posthoc_method in @conformal_methods and metric in @main_metrics and metric != \"region_size\"')\n",
    "plot_df = plot_df.reset_index()\n",
    "plot_df['name'] = pd.Categorical(plot_df['name'], conformal_methods)\n",
    "pivot_df = plot_df.pivot_table(index=('dataset', 'name'), columns=('metric',), values='value', aggfunc=agg_mean_sem, observed=True)\n",
    "styled_table = pivot_df.style.apply(Highlighter(config.alpha).highlight_min_per_dataset, axis=None)\n",
    "to_latex(styled_table.format(format_cell_latex), path / 'tables' / 'glow_real.tex')\n",
    "styled_table.format(format_cell_jupyter)"
   ]
  },
  {
   "cell_type": "markdown",
   "metadata": {},
   "source": [
    "### Coverage obtained by heuristic methods"
   ]
  },
  {
   "cell_type": "code",
   "execution_count": null,
   "metadata": {},
   "outputs": [],
   "source": [
    "posthoc_methods = [\"HDR-H\", \"L-H\", \"HDR-CP\", \"L-CP\"]\n",
    "palette = {\n",
    "    m: sns.color_palette('tab10')[i] for i, m in enumerate(posthoc_methods)\n",
    "}\n",
    "plot_df = df.query('dataset_group != \"toy\" and metric == \"coverage\" and posthoc_method in @posthoc_methods')\n",
    "plot_coverage_per_model(plot_df, posthoc_methods, config.alpha, palette, path / 'coverage' / 'all.pdf')"
   ]
  },
  {
   "cell_type": "markdown",
   "metadata": {},
   "source": [
    "### Hyperparameters analysis"
   ]
  },
  {
   "cell_type": "code",
   "execution_count": 10,
   "metadata": {},
   "outputs": [],
   "source": [
    "if config.name == 'hparams_alpha_01':\n",
    "    datasets = df.reset_index()['dataset'].unique()[5:]\n",
    "\n",
    "    for method in ['PCP', 'HD-PCP', 'C-PCP', 'HDR-CP']:\n",
    "        plot_n_samples(df, config, method, datasets)\n",
    "        savefig(path / 'n_samples' / f'{method}.pdf')\n",
    "    \n",
    "    for method in ['PCP', 'HD-PCP', 'C-PCP', 'HDR-CP']:\n",
    "        plot_n_samples(df, config, method, datasets, reg_line=True)\n",
    "        savefig(path / 'n_samples_reg_line' / f'{method}.pdf')"
   ]
  },
  {
   "cell_type": "markdown",
   "metadata": {},
   "source": [
    "### Output dimension analysis"
   ]
  },
  {
   "cell_type": "code",
   "execution_count": null,
   "metadata": {},
   "outputs": [],
   "source": [
    "if config.name == 'toy_ndim':\n",
    "    df = df.query('dataset.notna()')\n",
    "\n",
    "    for dataset in ['mvn_isotropic', 'mvn_diagonal', 'mvn_mixture', 'mvn_dependent']:\n",
    "        plot_ndim(df, config, dataset)\n",
    "        savefig(path / 'toy_ndim' / f'{dataset}.pdf')"
   ]
  }
 ],
 "metadata": {
  "kernelspec": {
   "display_name": "moc_test",
   "language": "python",
   "name": "python3"
  },
  "language_info": {
   "codemirror_mode": {
    "name": "ipython",
    "version": 3
   },
   "file_extension": ".py",
   "mimetype": "text/x-python",
   "name": "python",
   "nbconvert_exporter": "python",
   "pygments_lexer": "ipython3",
   "version": "3.10.16"
  }
 },
 "nbformat": 4,
 "nbformat_minor": 4
}
